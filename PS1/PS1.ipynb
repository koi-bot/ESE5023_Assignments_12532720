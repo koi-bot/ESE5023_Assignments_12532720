{
 "cells": [
  {
   "cell_type": "markdown",
   "id": "9af1eddb-4e46-405f-b3dd-b74eacedb466",
   "metadata": {},
   "source": [
    "# 1. FlowChart"
   ]
  },
  {
   "cell_type": "code",
   "execution_count": 3,
   "id": "35e3ed35-cb5c-4cf6-9376-1206b98abdef",
   "metadata": {},
   "outputs": [],
   "source": [
    "def Print_values(a, b, c):\n",
    "    \n",
    "    # 1 把 a, b, c 放入列表中并从大到小排序\n",
    "    sorted_values = sorted([a, b, c], reverse=True)\n",
    "    \n",
    "    # 2️ 依次赋值给 x, y, z\n",
    "    x, y, z = sorted_values\n",
    "    \n",
    "    # 3️  计算 x + y - 10z\n",
    "    result = x + y - 10 * z\n",
    "    \n",
    "    # 4️ 打印结果\n",
    "    print(f\"x = {x}, y = {y}, z = {z}\")\n",
    "    print(f\"Computed result (x + y - 10z) = {result}\")"
   ]
  },
  {
   "cell_type": "code",
   "execution_count": 5,
   "id": "59fb30cd-bf13-413a-bb7c-5623d844646b",
   "metadata": {},
   "outputs": [
    {
     "name": "stdout",
     "output_type": "stream",
     "text": [
      "x = 88, y = 49, z = 7\n",
      "Computed result (x + y - 10z) = 67\n",
      "x = 15, y = 10, z = 5\n",
      "Computed result (x + y - 10z) = -25\n"
     ]
    }
   ],
   "source": [
    "import random\n",
    "# 生成三个 1~100 之间的随机整数\n",
    "a = random.randint(1, 100)\n",
    "b = random.randint(1, 100)\n",
    "c = random.randint(1, 100)\n",
    "\n",
    "# 调用函数\n",
    "Print_values(a, b, c)\n",
    "Print_values(5, 15, 10)"
   ]
  },
  {
   "cell_type": "markdown",
   "id": "0cc49390-ad77-463e-bc90-b4d1226fd7d5",
   "metadata": {},
   "source": [
    "# 2. Continuous celing function"
   ]
  },
  {
   "cell_type": "code",
   "execution_count": 5,
   "id": "20f979e7-0b67-4ecd-b72c-29ac57618e7a",
   "metadata": {},
   "outputs": [],
   "source": [
    "import math\n",
    "\n",
    "def F(x):\n",
    "    # 基本情况（递归终止条件）\n",
    "    if x == 1:\n",
    "        return 1\n",
    "    else:\n",
    "        return F(math.ceil(x / 3)) + 2 * x"
   ]
  },
  {
   "cell_type": "code",
   "execution_count": 6,
   "id": "82382c72-6994-4295-b77e-18769b778797",
   "metadata": {},
   "outputs": [
    {
     "name": "stdout",
     "output_type": "stream",
     "text": [
      "F(1) = 1\n",
      "F(2) = 5\n",
      "F(3) = 7\n",
      "F(4) = 13\n",
      "F(9) = 25\n",
      "F(10) = 33\n"
     ]
    }
   ],
   "source": [
    "for i in [1, 2, 3, 4, 9, 10]:\n",
    "    print(f\"F({i}) = {F(i)}\")"
   ]
  },
  {
   "cell_type": "markdown",
   "id": "d04ff9c5-461a-441c-b5f4-21a8c5f0053d",
   "metadata": {},
   "source": [
    "# 3. Dice Rolling"
   ]
  },
  {
   "cell_type": "code",
   "execution_count": 12,
   "id": "07c8d284-7f84-45fd-8d37-5de9bc58b236",
   "metadata": {},
   "outputs": [
    {
     "name": "stdout",
     "output_type": "stream",
     "text": [
      "\n",
      " 当总和 x = 35 时，出现的组合数最多，为 4,395,456 种。\n",
      "\n",
      "Group 1          Group 2          Group 3          Group 4          Group 5         \n",
      "x=10: 1          x=11: 10         x=12: 55         x=13: 220        x=14: 715       \n",
      "x=15: 2,002      x=16: 4,995      x=17: 11,340     x=18: 23,760     x=19: 46,420    \n",
      "x=20: 85,228     x=21: 147,940    x=22: 243,925    x=23: 383,470    x=24: 576,565   \n",
      "x=25: 831,204    x=26: 1,151,370  x=27: 1,535,040  x=28: 1,972,630  x=29: 2,446,300 \n",
      "x=30: 2,930,455  x=31: 3,393,610  x=32: 3,801,535  x=33: 4,121,260  x=34: 4,325,310 \n",
      "x=35: 4,395,456  x=36: 4,325,310  x=37: 4,121,260  x=38: 3,801,535  x=39: 3,393,610 \n",
      "x=40: 2,930,455  x=41: 2,446,300  x=42: 1,972,630  x=43: 1,535,040  x=44: 1,151,370 \n",
      "x=45: 831,204    x=46: 576,565    x=47: 383,470    x=48: 243,925    x=49: 147,940   \n",
      "x=50: 85,228     x=51: 46,420     x=52: 23,760     x=53: 11,340     x=54: 4,995     \n",
      "x=55: 2,002      x=56: 715        x=57: 220        x=58: 55         x=59: 10        \n",
      "x=60: 1                      None             None             None             None\n"
     ]
    },
    {
     "data": {
      "image/png": "[encoded data removed]",
      "text/plain": [
       "<Figure size 800x500 with 1 Axes>"
      ]
     },
     "metadata": {},
     "output_type": "display_data"
    }
   ],
   "source": [
    "import numpy as np\n",
    "import pandas as pd\n",
    "import matplotlib.pyplot as plt\n",
    "\n",
    "# =============================\n",
    "# 3.1 定义函数：计算得到指定和 x 的方式数\n",
    "# =============================\n",
    "def Find_number_of_ways(n, x):\n",
    "    \"\"\"\n",
    "    使用动态规划计算：\n",
    "    投 n 个骰子（每个骰子 1~6 点）时，\n",
    "    总点数为 x 的组合数。\n",
    "    \"\"\"\n",
    "    dp = np.zeros((n + 1, x + 1), dtype=int)\n",
    "    dp[0][0] = 1\n",
    "\n",
    "    for i in range(1, n + 1):\n",
    "        for j in range(1, x + 1):\n",
    "            for k in range(1, 7):\n",
    "                if j - k >= 0:\n",
    "                    dp[i][j] += dp[i - 1][j - k]\n",
    "    return dp[n][x]\n",
    "\n",
    "\n",
    "# =============================\n",
    "# 3.2 主程序\n",
    "# =============================\n",
    "n = 10  # 骰子数\n",
    "x_values = list(range(10, 61))\n",
    "Number_of_ways = [Find_number_of_ways(n, x) for x in x_values]\n",
    "\n",
    "# 找出最多的情况\n",
    "max_ways = max(Number_of_ways)\n",
    "max_x = x_values[Number_of_ways.index(max_ways)]\n",
    "\n",
    "print(f\"\\n 当总和 x = {max_x} 时，出现的组合数最多，为 {max_ways:,} 种。\\n\")\n",
    "\n",
    "# =============================\n",
    "# 每行 3 组 (x, ways)，并左对齐输出\n",
    "# =============================\n",
    "data = [f\"x={x:<2}: {ways:<10,}\" for x, ways in zip(x_values, Number_of_ways)]\n",
    "rows = [data[i:i+5] for i in range(0, len(data), 5)]\n",
    "\n",
    "df = pd.DataFrame(rows, columns=[\"Group 1\", \"Group 2\", \"Group 3\",\"Group 4\",\"Group 5\",])\n",
    "\n",
    "# 设置 DataFrame 左对齐打印\n",
    "with pd.option_context('display.colheader_justify', 'left'):\n",
    "    print(df.to_string(index=False, justify='left'))\n",
    "\n",
    "# =============================\n",
    "# 绘图\n",
    "# =============================\n",
    "plt.figure(figsize=(8,5))\n",
    "plt.plot(x_values, Number_of_ways, marker='o', linewidth=1.5)\n",
    "plt.xlabel(\"Sum x\")\n",
    "plt.ylabel(\"Number of Ways\")\n",
    "plt.grid(True)\n",
    "plt.show()\n"
   ]
  },
  {
   "cell_type": "markdown",
   "id": "93a1b858-0ba4-428f-8823-8d81a80a7eef",
   "metadata": {},
   "source": [
    "# 4. Dynamic programming"
   ]
  },
  {
   "cell_type": "code",
   "execution_count": 16,
   "id": "f423706a-b2a8-4483-bc8c-f0fc68a22983",
   "metadata": {},
   "outputs": [
    {
     "data": {
      "image/png": "[encoded data removed]",
      "text/plain": [
       "<Figure size 800x500 with 1 Axes>"
      ]
     },
     "metadata": {},
     "output_type": "display_data"
    },
    {
     "name": "stdout",
     "output_type": "stream",
     "text": [
      "观察：\n",
      "随着 N 增大，总和快速上升，但计算速度极快。\n",
      "算法复杂度从指数级 (2^N) 降到线性级 (N)。\n"
     ]
    }
   ],
   "source": [
    "import numpy as np\n",
    "import math\n",
    "import matplotlib.pyplot as plt\n",
    "\n",
    "# =============================\n",
    "# 4.1 随机整数生成函数\n",
    "# =============================\n",
    "def Random_integer(N):\n",
    "    \"\"\"随机生成长度为 N 的整数数组，范围 [0,10]\"\"\"\n",
    "    return np.random.randint(0, 11, N)\n",
    "\n",
    "# =============================\n",
    "# 4.2 数学优化后的求和函数（O(N)）\n",
    "# =============================\n",
    "def Sum_averages(arr):\n",
    "    \"\"\"\n",
    "    使用组合数学优化，避免枚举所有子集。\n",
    "    返回所有非空子集平均值的总和。\n",
    "    \"\"\"\n",
    "    N = len(arr)\n",
    "    fN = sum(math.comb(N - 1, k - 1) / k for k in range(1, N + 1))\n",
    "    return fN * np.sum(arr)\n",
    "\n",
    "# =============================\n",
    "# 4.3 主程序\n",
    "# =============================\n",
    "Total_sum_averages = []\n",
    "\n",
    "for N in range(1, 101):\n",
    "    arr = Random_integer(N)\n",
    "    total = Sum_averages(arr)\n",
    "    Total_sum_averages.append(total)\n",
    "\n",
    "# 绘图\n",
    "plt.figure(figsize=(8, 5))\n",
    "plt.plot(range(1, 101), Total_sum_averages, marker='o', linewidth=1.5)\n",
    "plt.title(\"Total sum of averages\", fontsize=14)\n",
    "plt.xlabel(\"N (array size)\")\n",
    "plt.ylabel(\"Total sum of averages\")\n",
    "plt.grid(True)\n",
    "plt.show()\n",
    "\n",
    "# 结果描述\n",
    "print(\"观察：\")\n",
    "print(\"随着 N 增大，总和快速上升，但计算速度极快。\")\n",
    "print(\"算法复杂度从指数级 (2^N) 降到线性级 (N)。\")\n"
   ]
  },
  {
   "cell_type": "markdown",
   "id": "48350895-9b4c-48d3-a26f-aead43750caa",
   "metadata": {},
   "source": [
    "# 5. Path counting"
   ]
  },
  {
   "cell_type": "code",
   "execution_count": 21,
   "id": "6f3aee4c-999e-4f01-a9fc-66e5a26e1a24",
   "metadata": {},
   "outputs": [
    {
     "name": "stdout",
     "output_type": "stream",
     "text": [
      "在 1000 次随机生成的 10×8 矩阵中，平均路径数量为：0.62\n"
     ]
    }
   ],
   "source": [
    "import numpy as np\n",
    "\n",
    "# =============================\n",
    "# 5.1 创建随机矩阵函数\n",
    "# =============================\n",
    "def Create_matrix(N, M):\n",
    "    \"\"\"\n",
    "    创建一个 N 行 M 列的矩阵。\n",
    "    - 左上角 (0,0) 和右下角 (N-1,M-1) 填 1。\n",
    "    - 其他位置随机填 0 或 1。\n",
    "    \"\"\"\n",
    "    matrix = np.random.randint(0, 2, size=(N, M))  # 0 或 1\n",
    "    matrix[0, 0] = 1           # 起点\n",
    "    matrix[-1, -1] = 1         # 终点\n",
    "    return matrix\n",
    "\n",
    "# =============================\n",
    "# 5.2 计算路径数函数（动态规划）\n",
    "# =============================\n",
    "def Count_path(matrix):\n",
    "    \"\"\"\n",
    "    使用动态规划计算从左上角到右下角的路径数量。\n",
    "    规则：\n",
    "      - 只能向右或向下移动；\n",
    "      - 标记为 0 的格子视为障碍；\n",
    "      - 标记为 1 的格子可通行。\n",
    "    \"\"\"\n",
    "    N, M = matrix.shape\n",
    "    dp = np.zeros((N, M), dtype=int)\n",
    "\n",
    "    # 如果起点被封锁，路径数为 0\n",
    "    if matrix[0, 0] == 0:\n",
    "        return 0\n",
    "    \n",
    "    # 初始化起点\n",
    "    dp[0, 0] = 1\n",
    "\n",
    "    # 填充 DP 矩阵\n",
    "    for i in range(N):\n",
    "        for j in range(M):\n",
    "            if matrix[i, j] == 0:\n",
    "                dp[i, j] = 0  # 障碍点，无路径\n",
    "            else:\n",
    "                if i > 0:\n",
    "                    dp[i, j] += dp[i - 1, j]  # 来自上方\n",
    "                if j > 0:\n",
    "                    dp[i, j] += dp[i, j - 1]  # 来自左侧\n",
    "\n",
    "    # 返回右下角的路径总数\n",
    "    return dp[-1, -1]\n",
    "\n",
    "\n",
    "# =============================\n",
    "# 5.3 重复实验 1000 次并计算平均路径数\n",
    "# =============================\n",
    "N, M = 10, 8\n",
    "num_runs = 1000\n",
    "path_counts = []\n",
    "\n",
    "for _ in range(num_runs):\n",
    "    mat = Create_matrix(N, M)\n",
    "    count = Count_path(mat)\n",
    "    path_counts.append(count)\n",
    "\n",
    "mean_paths = np.mean(path_counts)\n",
    "\n",
    "print(f\"在 {num_runs} 次随机生成的 {N}×{M} 矩阵中，平均路径数量为：{mean_paths:.2f}\")\n"
   ]
  },
  {
   "cell_type": "code",
   "execution_count": null,
   "id": "20a1f5e0-efa2-4b50-85b6-94e6b399deca",
   "metadata": {},
   "outputs": [],
   "source": []
  }
 ],
 "metadata": {
  "kernelspec": {
   "display_name": "Python 3 (ipykernel)",
   "language": "python",
   "name": "python3"
  },
  "language_info": {
   "codemirror_mode": {
    "name": "ipython",
    "version": 3
   },
   "file_extension": ".py",
   "mimetype": "text/x-python",
   "name": "python",
   "nbconvert_exporter": "python",
   "pygments_lexer": "ipython3",
   "version": "3.11.7"
  }
 },
 "nbformat": 4,
 "nbformat_minor": 5
}
